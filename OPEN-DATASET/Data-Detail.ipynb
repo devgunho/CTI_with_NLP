{
 "cells": [
  {
   "cell_type": "code",
   "execution_count": 50,
   "metadata": {
    "ExecuteTime": {
     "end_time": "2021-05-06T13:22:45.481155Z",
     "start_time": "2021-05-06T13:22:44.591989Z"
    }
   },
   "outputs": [
    {
     "name": "stdout",
     "output_type": "stream",
     "text": [
      "{'_id': {'$oid': '60537a294bd3b119b8b12c33'}, 'corpus': 'Afghanistan', 'official_name': 'the Islamic Republic of Afghanistan', 'iso3': 'AFG', 'Iso2': 'AF', 'uni': 4, 'undp': 'AFG', 'faostat': 2, 'gaul': 1, 'entity': 'LOCATION', 'category': 'location'}\n"
     ]
    }
   ],
   "source": [
    "import json\n",
    "import pandas as pd\n",
    "\n",
    "with open(\"./MongoDB/dictionary.json\", \"r\", encoding=\"utf-8\") as f:\n",
    "    dic_data = json.load(f)\n",
    "\n",
    "print(dic_data[0])"
   ]
  },
  {
   "cell_type": "code",
   "execution_count": 43,
   "metadata": {
    "ExecuteTime": {
     "end_time": "2021-05-06T12:48:16.975395Z",
     "start_time": "2021-05-06T12:48:16.957808Z"
    }
   },
   "outputs": [
    {
     "name": "stdout",
     "output_type": "stream",
     "text": [
      "{'_id': {'$oid': '60534d7b1b792af8aaa87c0e'}, 'entity': 'ATTACK-METHOD', 'regexr': False, 'discription': 'Attack Pattern + Tactics + Techniques'}\n"
     ]
    }
   ],
   "source": [
    "with open(\"./MongoDB/entity.json\", \"r\", encoding=\"utf-8\") as f:\n",
    "    entity_data = json.load(f)\n",
    "\n",
    "print(entity_data[0])"
   ]
  },
  {
   "cell_type": "code",
   "execution_count": 44,
   "metadata": {
    "ExecuteTime": {
     "end_time": "2021-05-06T12:48:17.600113Z",
     "start_time": "2021-05-06T12:48:17.593157Z"
    }
   },
   "outputs": [
    {
     "name": "stdout",
     "output_type": "stream",
     "text": [
      "Total Entities : 18\n",
      "Total Corpus : 206518\n"
     ]
    }
   ],
   "source": [
    "print(\"Total Entities :\", len(entity_data))\n",
    "print(\"Total Corpus :\", len(dic_data))"
   ]
  },
  {
   "cell_type": "code",
   "execution_count": 33,
   "metadata": {
    "ExecuteTime": {
     "end_time": "2021-05-06T12:42:19.876547Z",
     "start_time": "2021-05-06T12:42:19.812605Z"
    }
   },
   "outputs": [
    {
     "name": "stdout",
     "output_type": "stream",
     "text": [
      "{'LOCATION': 195, 'THREAT-ACTOR': 212, 'MITIGATION': 82, 'null': 168, 'VULNERABILITY': 205713, 'WIN-REG-KEY': 148}\n"
     ]
    }
   ],
   "source": [
    "entity_cnt = {}\n",
    "total_cnt = 0\n",
    "for i in dic_data:\n",
    "    total_cnt += 1\n",
    "    try:\n",
    "        entity_cnt[i['entity']] += 1\n",
    "    except:\n",
    "        entity_cnt[i['entity']] = 1\n",
    "print(entity_cnt)\n",
    "# print(total_cnt,len(dic_data))"
   ]
  },
  {
   "cell_type": "code",
   "execution_count": 51,
   "metadata": {
    "ExecuteTime": {
     "end_time": "2021-05-06T13:22:53.055101Z",
     "start_time": "2021-05-06T13:22:53.045128Z"
    }
   },
   "outputs": [
    {
     "name": "stdout",
     "output_type": "stream",
     "text": [
      "location\n",
      "location\n",
      "location\n",
      "location\n",
      "location\n",
      "location\n",
      "location\n",
      "location\n",
      "location\n",
      "location\n",
      "location\n",
      "location\n",
      "location\n",
      "location\n",
      "location\n",
      "location\n",
      "location\n",
      "location\n",
      "location\n",
      "location\n",
      "location\n",
      "location\n",
      "location\n",
      "location\n",
      "location\n",
      "location\n",
      "location\n",
      "location\n",
      "location\n",
      "location\n",
      "location\n",
      "location\n",
      "location\n",
      "location\n",
      "location\n",
      "location\n",
      "location\n",
      "location\n",
      "location\n",
      "location\n",
      "location\n",
      "location\n",
      "location\n",
      "location\n",
      "location\n",
      "location\n",
      "location\n",
      "location\n",
      "location\n",
      "location\n",
      "location\n",
      "location\n",
      "location\n",
      "location\n",
      "location\n",
      "location\n",
      "location\n",
      "location\n",
      "location\n",
      "location\n",
      "location\n",
      "location\n",
      "location\n",
      "location\n",
      "location\n",
      "location\n",
      "location\n",
      "location\n",
      "location\n",
      "location\n",
      "location\n",
      "location\n",
      "location\n",
      "location\n",
      "location\n",
      "location\n",
      "location\n",
      "location\n",
      "location\n",
      "location\n",
      "location\n",
      "location\n",
      "location\n",
      "location\n",
      "location\n",
      "location\n",
      "location\n",
      "location\n",
      "location\n",
      "location\n",
      "location\n",
      "location\n",
      "location\n",
      "location\n",
      "location\n",
      "location\n",
      "location\n",
      "location\n",
      "location\n",
      "location\n",
      "location\n",
      "location\n",
      "location\n",
      "location\n",
      "location\n",
      "location\n",
      "location\n",
      "location\n",
      "location\n",
      "location\n",
      "location\n",
      "location\n",
      "location\n",
      "location\n",
      "location\n",
      "location\n",
      "location\n",
      "location\n",
      "location\n",
      "location\n",
      "location\n",
      "location\n",
      "location\n",
      "location\n",
      "location\n",
      "location\n",
      "location\n",
      "location\n",
      "location\n",
      "location\n",
      "location\n",
      "location\n",
      "location\n",
      "location\n",
      "location\n",
      "location\n",
      "location\n",
      "location\n",
      "location\n",
      "location\n",
      "location\n",
      "location\n",
      "location\n",
      "location\n",
      "location\n",
      "location\n",
      "location\n",
      "location\n",
      "location\n",
      "location\n",
      "location\n",
      "location\n",
      "location\n",
      "location\n",
      "location\n",
      "location\n",
      "location\n",
      "location\n",
      "location\n",
      "location\n",
      "location\n",
      "location\n",
      "location\n",
      "location\n",
      "location\n",
      "location\n",
      "location\n",
      "location\n",
      "location\n",
      "location\n",
      "location\n",
      "location\n",
      "location\n",
      "location\n",
      "location\n",
      "location\n",
      "location\n",
      "location\n",
      "location\n",
      "location\n",
      "location\n",
      "location\n",
      "location\n",
      "location\n",
      "location\n",
      "location\n",
      "location\n",
      "location\n",
      "location\n",
      "location\n",
      "location\n",
      "location\n",
      "location\n",
      "location\n",
      "location\n"
     ]
    },
    {
     "ename": "KeyError",
     "evalue": "'category'",
     "output_type": "error",
     "traceback": [
      "\u001b[1;31m---------------------------------------------------------------------------\u001b[0m",
      "\u001b[1;31mKeyError\u001b[0m                                  Traceback (most recent call last)",
      "\u001b[1;32m<ipython-input-51-1955d0e1f52e>\u001b[0m in \u001b[0;36m<module>\u001b[1;34m\u001b[0m\n\u001b[0;32m      3\u001b[0m \u001b[1;32mfor\u001b[0m \u001b[0mi\u001b[0m \u001b[1;32min\u001b[0m \u001b[0mdic_data\u001b[0m\u001b[1;33m:\u001b[0m\u001b[1;33m\u001b[0m\u001b[1;33m\u001b[0m\u001b[0m\n\u001b[0;32m      4\u001b[0m     \u001b[0mtotal_cnt\u001b[0m \u001b[1;33m+=\u001b[0m \u001b[1;36m1\u001b[0m\u001b[1;33m\u001b[0m\u001b[1;33m\u001b[0m\u001b[0m\n\u001b[1;32m----> 5\u001b[1;33m     \u001b[0mprint\u001b[0m\u001b[1;33m(\u001b[0m\u001b[0mi\u001b[0m\u001b[1;33m[\u001b[0m\u001b[1;34m'category'\u001b[0m\u001b[1;33m]\u001b[0m\u001b[1;33m)\u001b[0m\u001b[1;33m\u001b[0m\u001b[1;33m\u001b[0m\u001b[0m\n\u001b[0m\u001b[0;32m      6\u001b[0m \u001b[1;31m#     try:\u001b[0m\u001b[1;33m\u001b[0m\u001b[1;33m\u001b[0m\u001b[1;33m\u001b[0m\u001b[0m\n\u001b[0;32m      7\u001b[0m \u001b[1;31m#         entity_cnt[i['entity']] += 1\u001b[0m\u001b[1;33m\u001b[0m\u001b[1;33m\u001b[0m\u001b[1;33m\u001b[0m\u001b[0m\n",
      "\u001b[1;31mKeyError\u001b[0m: 'category'"
     ]
    }
   ],
   "source": [
    "entity_cnt = {}\n",
    "total_cnt = 0\n",
    "for i in dic_data:\n",
    "    total_cnt += 1\n",
    "    print(i['category'])\n",
    "#     try:\n",
    "#         entity_cnt[i['entity']] += 1\n",
    "#     except:\n",
    "#         entity_cnt[i['entity']] = 1\n",
    "# print(entity_cnt)\n",
    "# print(total_cnt,len(dic_data))"
   ]
  },
  {
   "cell_type": "code",
   "execution_count": null,
   "metadata": {},
   "outputs": [],
   "source": []
  }
 ],
 "metadata": {
  "kernelspec": {
   "display_name": "Python 3",
   "language": "python",
   "name": "python3"
  },
  "language_info": {
   "codemirror_mode": {
    "name": "ipython",
    "version": 3
   },
   "file_extension": ".py",
   "mimetype": "text/x-python",
   "name": "python",
   "nbconvert_exporter": "python",
   "pygments_lexer": "ipython3",
   "version": "3.8.5"
  }
 },
 "nbformat": 4,
 "nbformat_minor": 4
}
