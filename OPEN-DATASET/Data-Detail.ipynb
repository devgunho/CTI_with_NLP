{
 "cells": [
  {
   "cell_type": "code",
   "execution_count": 1,
   "metadata": {
    "ExecuteTime": {
     "end_time": "2021-05-06T04:53:51.177128Z",
     "start_time": "2021-05-06T04:53:50.128048Z"
    }
   },
   "outputs": [
    {
     "name": "stdout",
     "output_type": "stream",
     "text": [
      "{'_id': {'$oid': '60537a294bd3b119b8b12c33'}, 'corpus': 'Afghanistan', 'official_name': 'the Islamic Republic of Afghanistan', 'iso3': 'AFG', 'Iso2': 'AF', 'uni': 4, 'undp': 'AFG', 'faostat': 2, 'gaul': 1, 'entity': 'LOCATION', 'category': 'location'}\n"
     ]
    }
   ],
   "source": [
    "import json\n",
    "import pandas as pd\n",
    "\n",
    "with open(\"./MongoDB/dictionary.json\", \"r\", encoding=\"utf-8\") as f:\n",
    "    dic_data = json.load(f)\n",
    "\n",
    "print(dic_data[0])"
   ]
  }
 ],
 "metadata": {
  "kernelspec": {
   "display_name": "Python 3",
   "language": "python",
   "name": "python3"
  },
  "language_info": {
   "codemirror_mode": {
    "name": "ipython",
    "version": 3
   },
   "file_extension": ".py",
   "mimetype": "text/x-python",
   "name": "python",
   "nbconvert_exporter": "python",
   "pygments_lexer": "ipython3",
   "version": "3.8.5"
  }
 },
 "nbformat": 4,
 "nbformat_minor": 4
}
