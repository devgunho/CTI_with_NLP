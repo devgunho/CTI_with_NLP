{
 "cells": [
  {
   "cell_type": "code",
   "execution_count": 1,
   "metadata": {
    "ExecuteTime": {
     "end_time": "2021-05-21T09:05:45.445929Z",
     "start_time": "2021-05-21T09:05:44.293451Z"
    }
   },
   "outputs": [
    {
     "name": "stdout",
     "output_type": "stream",
     "text": [
      "{'_id': {'$oid': '60537a294bd3b119b8b12c33'}, 'corpus': 'Afghanistan', 'official_name': 'the Islamic Republic of Afghanistan', 'iso3': 'AFG', 'Iso2': 'AF', 'uni': 4, 'undp': 'AFG', 'faostat': 2, 'gaul': 1, 'entity': 'LOCATION', 'category': 'location-country'}\n"
     ]
    }
   ],
   "source": [
    "import json\n",
    "import pandas as pd\n",
    "\n",
    "with open(\"./MongoDB/dictionary.json\", \"r\", encoding=\"utf-8\") as f:\n",
    "    dic_data = json.load(f)\n",
    "\n",
    "print(dic_data[0])"
   ]
  },
  {
   "cell_type": "code",
   "execution_count": 2,
   "metadata": {
    "ExecuteTime": {
     "end_time": "2021-05-21T09:05:45.460889Z",
     "start_time": "2021-05-21T09:05:45.446927Z"
    }
   },
   "outputs": [
    {
     "name": "stdout",
     "output_type": "stream",
     "text": [
      "{'_id': {'$oid': '60534d7b1b792af8aaa87c0e'}, 'entity': 'ATTACK-METHOD', 'regexr': False, 'discription': 'Attack Pattern + Tactics + Techniques'}\n"
     ]
    }
   ],
   "source": [
    "with open(\"./MongoDB/entity.json\", \"r\", encoding=\"utf-8\") as f:\n",
    "    entity_data = json.load(f)\n",
    "\n",
    "print(entity_data[0])"
   ]
  },
  {
   "cell_type": "code",
   "execution_count": 3,
   "metadata": {
    "ExecuteTime": {
     "end_time": "2021-05-21T09:05:45.475853Z",
     "start_time": "2021-05-21T09:05:45.461888Z"
    }
   },
   "outputs": [
    {
     "name": "stdout",
     "output_type": "stream",
     "text": [
      "Total Entities : 18\n",
      "Total Corpus : 228916\n"
     ]
    }
   ],
   "source": [
    "print(\"Total Entities :\", len(entity_data))\n",
    "print(\"Total Corpus :\", len(dic_data))"
   ]
  },
  {
   "cell_type": "code",
   "execution_count": 4,
   "metadata": {
    "ExecuteTime": {
     "end_time": "2021-05-21T09:05:45.550736Z",
     "start_time": "2021-05-21T09:05:45.476847Z"
    }
   },
   "outputs": [
    {
     "name": "stdout",
     "output_type": "stream",
     "text": [
      "{'LOCATION': 22567, 'THREAT-ACTOR': 212, 'MITIGATION': 82, 'null': 168, 'VULNERABILITY': 205713, 'WIN-REG-KEY': 148, 'HASH': 26}\n"
     ]
    }
   ],
   "source": [
    "entity_cnt = {}\n",
    "total_cnt = 0\n",
    "for i in dic_data:\n",
    "    total_cnt += 1\n",
    "#     print(i['corpus'])\n",
    "#     print(i['category'])\n",
    "    try:\n",
    "        entity_cnt[i['entity']] += 1\n",
    "    except:\n",
    "        entity_cnt[i['entity']] = 1\n",
    "print(entity_cnt)"
   ]
  },
  {
   "cell_type": "code",
   "execution_count": 5,
   "metadata": {
    "ExecuteTime": {
     "end_time": "2021-05-21T09:05:45.655455Z",
     "start_time": "2021-05-21T09:05:45.551733Z"
    }
   },
   "outputs": [
    {
     "name": "stdout",
     "output_type": "stream",
     "text": [
      "{'location-country': 195, 'mitre-groups': 212, 'mitre-mitigations': 82, 'ceo': 32, 'filename-extensions': 136, 'cve-ver-20061101': 205713, 'registry': 148, 'hash-md5': 7, 'hash-sha256': 16, 'hash-sha1': 3, 'location-city': 22372}\n"
     ]
    }
   ],
   "source": [
    "category_cnt = {}\n",
    "total_cnt = 0\n",
    "for i in dic_data:\n",
    "    total_cnt += 1\n",
    "    #     print(i['corpus'], i['category'])\n",
    "    try:\n",
    "        category_cnt[i['category']] += 1\n",
    "    except:\n",
    "        category_cnt[i['category']] = 1\n",
    "print(category_cnt)"
   ]
  },
  {
   "cell_type": "code",
   "execution_count": 6,
   "metadata": {
    "ExecuteTime": {
     "end_time": "2021-05-21T09:05:45.685375Z",
     "start_time": "2021-05-21T09:05:45.656453Z"
    }
   },
   "outputs": [
    {
     "data": {
      "text/html": [
       "<div>\n",
       "<style scoped>\n",
       "    .dataframe tbody tr th:only-of-type {\n",
       "        vertical-align: middle;\n",
       "    }\n",
       "\n",
       "    .dataframe tbody tr th {\n",
       "        vertical-align: top;\n",
       "    }\n",
       "\n",
       "    .dataframe thead th {\n",
       "        text-align: right;\n",
       "    }\n",
       "</style>\n",
       "<table border=\"1\" class=\"dataframe\">\n",
       "  <thead>\n",
       "    <tr style=\"text-align: right;\">\n",
       "      <th></th>\n",
       "      <th>ENTITY</th>\n",
       "      <th>COUNT</th>\n",
       "    </tr>\n",
       "  </thead>\n",
       "  <tbody>\n",
       "    <tr>\n",
       "      <th>0</th>\n",
       "      <td>LOCATION</td>\n",
       "      <td>22567</td>\n",
       "    </tr>\n",
       "    <tr>\n",
       "      <th>1</th>\n",
       "      <td>THREAT-ACTOR</td>\n",
       "      <td>212</td>\n",
       "    </tr>\n",
       "    <tr>\n",
       "      <th>2</th>\n",
       "      <td>MITIGATION</td>\n",
       "      <td>82</td>\n",
       "    </tr>\n",
       "    <tr>\n",
       "      <th>3</th>\n",
       "      <td>null</td>\n",
       "      <td>168</td>\n",
       "    </tr>\n",
       "    <tr>\n",
       "      <th>4</th>\n",
       "      <td>VULNERABILITY</td>\n",
       "      <td>205713</td>\n",
       "    </tr>\n",
       "    <tr>\n",
       "      <th>5</th>\n",
       "      <td>WIN-REG-KEY</td>\n",
       "      <td>148</td>\n",
       "    </tr>\n",
       "    <tr>\n",
       "      <th>6</th>\n",
       "      <td>HASH</td>\n",
       "      <td>26</td>\n",
       "    </tr>\n",
       "  </tbody>\n",
       "</table>\n",
       "</div>"
      ],
      "text/plain": [
       "          ENTITY   COUNT\n",
       "0       LOCATION   22567\n",
       "1   THREAT-ACTOR     212\n",
       "2     MITIGATION      82\n",
       "3           null     168\n",
       "4  VULNERABILITY  205713\n",
       "5    WIN-REG-KEY     148\n",
       "6           HASH      26"
      ]
     },
     "execution_count": 6,
     "metadata": {},
     "output_type": "execute_result"
    }
   ],
   "source": [
    "import pandas as pd\n",
    "\n",
    "entity_df = pd.DataFrame(list(entity_cnt.items()),\n",
    "                           columns=['ENTITY', 'COUNT'])\n",
    "\n",
    "entity_df"
   ]
  },
  {
   "cell_type": "code",
   "execution_count": 7,
   "metadata": {
    "ExecuteTime": {
     "end_time": "2021-05-21T09:05:45.700337Z",
     "start_time": "2021-05-21T09:05:45.687370Z"
    }
   },
   "outputs": [
    {
     "data": {
      "text/html": [
       "<div>\n",
       "<style scoped>\n",
       "    .dataframe tbody tr th:only-of-type {\n",
       "        vertical-align: middle;\n",
       "    }\n",
       "\n",
       "    .dataframe tbody tr th {\n",
       "        vertical-align: top;\n",
       "    }\n",
       "\n",
       "    .dataframe thead th {\n",
       "        text-align: right;\n",
       "    }\n",
       "</style>\n",
       "<table border=\"1\" class=\"dataframe\">\n",
       "  <thead>\n",
       "    <tr style=\"text-align: right;\">\n",
       "      <th></th>\n",
       "      <th>CATEGORY</th>\n",
       "      <th>COUNT</th>\n",
       "    </tr>\n",
       "  </thead>\n",
       "  <tbody>\n",
       "    <tr>\n",
       "      <th>0</th>\n",
       "      <td>location-country</td>\n",
       "      <td>195</td>\n",
       "    </tr>\n",
       "    <tr>\n",
       "      <th>1</th>\n",
       "      <td>mitre-groups</td>\n",
       "      <td>212</td>\n",
       "    </tr>\n",
       "    <tr>\n",
       "      <th>2</th>\n",
       "      <td>mitre-mitigations</td>\n",
       "      <td>82</td>\n",
       "    </tr>\n",
       "    <tr>\n",
       "      <th>3</th>\n",
       "      <td>ceo</td>\n",
       "      <td>32</td>\n",
       "    </tr>\n",
       "    <tr>\n",
       "      <th>4</th>\n",
       "      <td>filename-extensions</td>\n",
       "      <td>136</td>\n",
       "    </tr>\n",
       "    <tr>\n",
       "      <th>5</th>\n",
       "      <td>cve-ver-20061101</td>\n",
       "      <td>205713</td>\n",
       "    </tr>\n",
       "    <tr>\n",
       "      <th>6</th>\n",
       "      <td>registry</td>\n",
       "      <td>148</td>\n",
       "    </tr>\n",
       "    <tr>\n",
       "      <th>7</th>\n",
       "      <td>hash-md5</td>\n",
       "      <td>7</td>\n",
       "    </tr>\n",
       "    <tr>\n",
       "      <th>8</th>\n",
       "      <td>hash-sha256</td>\n",
       "      <td>16</td>\n",
       "    </tr>\n",
       "    <tr>\n",
       "      <th>9</th>\n",
       "      <td>hash-sha1</td>\n",
       "      <td>3</td>\n",
       "    </tr>\n",
       "    <tr>\n",
       "      <th>10</th>\n",
       "      <td>location-city</td>\n",
       "      <td>22372</td>\n",
       "    </tr>\n",
       "  </tbody>\n",
       "</table>\n",
       "</div>"
      ],
      "text/plain": [
       "               CATEGORY   COUNT\n",
       "0      location-country     195\n",
       "1          mitre-groups     212\n",
       "2     mitre-mitigations      82\n",
       "3                   ceo      32\n",
       "4   filename-extensions     136\n",
       "5      cve-ver-20061101  205713\n",
       "6              registry     148\n",
       "7              hash-md5       7\n",
       "8           hash-sha256      16\n",
       "9             hash-sha1       3\n",
       "10        location-city   22372"
      ]
     },
     "execution_count": 7,
     "metadata": {},
     "output_type": "execute_result"
    }
   ],
   "source": [
    "import pandas as pd\n",
    "\n",
    "category_df = pd.DataFrame(list(category_cnt.items()),\n",
    "                           columns=['CATEGORY', 'COUNT'])\n",
    "\n",
    "category_df"
   ]
  }
 ],
 "metadata": {
  "kernelspec": {
   "display_name": "Python 3",
   "language": "python",
   "name": "python3"
  },
  "language_info": {
   "codemirror_mode": {
    "name": "ipython",
    "version": 3
   },
   "file_extension": ".py",
   "mimetype": "text/x-python",
   "name": "python",
   "nbconvert_exporter": "python",
   "pygments_lexer": "ipython3",
   "version": "3.8.10"
  }
 },
 "nbformat": 4,
 "nbformat_minor": 4
}
