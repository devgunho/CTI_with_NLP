{
 "cells": [
  {
   "cell_type": "markdown",
   "metadata": {},
   "source": [
    "### Named Entity Recognition (NER) with Spacy\n",
    "The goal of this notebook is to show the full end to end process for Name-Entity Recognition(NER) with Spacy."
   ]
  },
  {
   "cell_type": "markdown",
   "metadata": {},
   "source": [
    "- Read the data set per line.\n",
    "- We will label texts with the entity using Doccano labeling tool. This is a manual process.\n",
    "- We will save the labels in a text file as JSONL.\n",
    "- We will use Spacy Neural Network model to train a new statistical model.\n",
    "- We will save the model.\n",
    "- We will create a Spacy NLP pipeline and use the new model to detect custom entities never seen before.\n",
    "- Finally, we will use pattern matching instead of a deep learning model to compare both method."
   ]
  }
 ],
 "metadata": {
  "kernelspec": {
   "display_name": "Python 3",
   "language": "python",
   "name": "python3"
  },
  "language_info": {
   "codemirror_mode": {
    "name": "ipython",
    "version": 3
   },
   "file_extension": ".py",
   "mimetype": "text/x-python",
   "name": "python",
   "nbconvert_exporter": "python",
   "pygments_lexer": "ipython3",
   "version": "3.8.5"
  }
 },
 "nbformat": 4,
 "nbformat_minor": 4
}
