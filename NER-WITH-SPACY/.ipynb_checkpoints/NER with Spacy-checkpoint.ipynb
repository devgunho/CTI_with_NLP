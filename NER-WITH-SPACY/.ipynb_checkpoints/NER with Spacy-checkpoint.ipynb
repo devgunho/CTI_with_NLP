{
 "cells": [
  {
   "cell_type": "code",
   "execution_count": 1,
   "metadata": {
    "ExecuteTime": {
     "end_time": "2021-04-19T04:25:57.041176Z",
     "start_time": "2021-04-19T04:25:57.026198Z"
    }
   },
   "outputs": [],
   "source": [
    "import json\n",
    "labeled_data = []\n",
    "cnt = 0\n",
    "with open(r\"labeled_sample.jsonl\", \"r\", encoding='UTF8') as read_file:\n",
    "    for line in read_file:\n",
    "        data = json.loads(line)\n",
    "        labeled_data.append(data)"
   ]
  },
  {
   "cell_type": "markdown",
   "metadata": {},
   "source": [
    "### Convert the format to spacy format\n",
    "Convert the Deccano format to Spacy format.\n",
    "\n",
    "We will also remove extra columns and rename labels to entities."
   ]
  },
  {
   "cell_type": "code",
   "execution_count": 2,
   "metadata": {
    "ExecuteTime": {
     "end_time": "2021-04-19T04:25:57.057141Z",
     "start_time": "2021-04-19T04:25:57.042156Z"
    }
   },
   "outputs": [
    {
     "name": "stdout",
     "output_type": "stream",
     "text": [
      "{'label': 18, 'start_offset': 13, 'end_offset': 20, 'user': 1, 'created_at': '2021-04-16T02:32:12.745796Z', 'updated_at': '2021-04-16T02:32:12.745796Z'}\n",
      "18 13 20\n",
      "{'label': 4, 'start_offset': 107, 'end_offset': 111, 'user': 1, 'created_at': '2021-04-16T02:33:14.547177Z', 'updated_at': '2021-04-16T02:33:14.547177Z'}\n",
      "4 107 111\n",
      "{'label': 4, 'start_offset': 75, 'end_offset': 90, 'user': 1, 'created_at': '2021-04-16T02:37:51.486904Z', 'updated_at': '2021-04-16T02:37:51.486904Z'}\n",
      "4 75 90\n",
      "{'label': 4, 'start_offset': 97, 'end_offset': 115, 'user': 1, 'created_at': '2021-04-16T02:38:02.802423Z', 'updated_at': '2021-04-16T02:38:02.802423Z'}\n",
      "4 97 115\n",
      "{'label': 4, 'start_offset': 128, 'end_offset': 143, 'user': 1, 'created_at': '2021-04-16T02:38:07.974826Z', 'updated_at': '2021-04-16T02:38:07.974826Z'}\n",
      "4 128 143\n",
      "{'label': 4, 'start_offset': 175, 'end_offset': 181, 'user': 1, 'created_at': '2021-04-16T02:38:52.949249Z', 'updated_at': '2021-04-16T02:38:52.949249Z'}\n",
      "4 175 181\n",
      "{'label': 4, 'start_offset': 49, 'end_offset': 55, 'user': 1, 'created_at': '2021-04-16T02:39:11.636502Z', 'updated_at': '2021-04-16T02:39:11.636502Z'}\n",
      "4 49 55\n",
      "{'label': 4, 'start_offset': 41, 'end_offset': 47, 'user': 1, 'created_at': '2021-04-16T02:39:14.852251Z', 'updated_at': '2021-04-16T02:39:14.852251Z'}\n",
      "4 41 47\n",
      "{'label': 4, 'start_offset': 18, 'end_offset': 24, 'user': 1, 'created_at': '2021-04-16T02:39:26.391956Z', 'updated_at': '2021-04-16T02:39:26.391956Z'}\n",
      "4 18 24\n",
      "{'label': 2, 'start_offset': 58, 'end_offset': 77, 'user': 1, 'created_at': '2021-04-16T03:05:00.128145Z', 'updated_at': '2021-04-16T03:05:00.128145Z'}\n",
      "2 58 77\n",
      "{'label': 4, 'start_offset': 38, 'end_offset': 44, 'user': 1, 'created_at': '2021-04-16T03:05:05.925036Z', 'updated_at': '2021-04-16T03:05:05.925036Z'}\n",
      "4 38 44\n",
      "{'label': 4, 'start_offset': 228, 'end_offset': 238, 'user': 1, 'created_at': '2021-04-16T03:05:25.354227Z', 'updated_at': '2021-04-16T03:05:25.354227Z'}\n",
      "4 228 238\n",
      "{'label': 4, 'start_offset': 80, 'end_offset': 86, 'user': 1, 'created_at': '2021-04-16T03:06:00.415234Z', 'updated_at': '2021-04-16T03:06:00.415234Z'}\n",
      "4 80 86\n",
      "{'label': 4, 'start_offset': 108, 'end_offset': 112, 'user': 1, 'created_at': '2021-04-16T03:06:03.132535Z', 'updated_at': '2021-04-16T03:06:03.132535Z'}\n",
      "4 108 112\n",
      "{'label': 4, 'start_offset': 116, 'end_offset': 123, 'user': 1, 'created_at': '2021-04-16T03:06:07.196624Z', 'updated_at': '2021-04-16T03:06:07.196624Z'}\n",
      "4 116 123\n",
      "{'label': 4, 'start_offset': 124, 'end_offset': 134, 'user': 1, 'created_at': '2021-04-16T03:06:09.871501Z', 'updated_at': '2021-04-16T03:06:09.871501Z'}\n",
      "4 124 134\n",
      "{'label': 4, 'start_offset': 19, 'end_offset': 25, 'user': 1, 'created_at': '2021-04-16T04:16:11.394006Z', 'updated_at': '2021-04-16T04:16:11.394006Z'}\n",
      "4 19 25\n",
      "{'label': 15, 'start_offset': 0, 'end_offset': 30, 'user': 1, 'created_at': '2021-04-16T05:47:04.763547Z', 'updated_at': '2021-04-16T05:47:04.763547Z'}\n",
      "15 0 30\n",
      "{'label': 4, 'start_offset': 35, 'end_offset': 41, 'user': 1, 'created_at': '2021-04-16T05:47:10.916635Z', 'updated_at': '2021-04-16T05:47:10.916635Z'}\n",
      "4 35 41\n",
      "{'label': 4, 'start_offset': 112, 'end_offset': 123, 'user': 1, 'created_at': '2021-04-16T05:48:27.471343Z', 'updated_at': '2021-04-16T05:48:27.471343Z'}\n",
      "4 112 123\n",
      "{'label': 4, 'start_offset': 128, 'end_offset': 139, 'user': 1, 'created_at': '2021-04-16T05:49:30.607427Z', 'updated_at': '2021-04-16T05:49:30.607427Z'}\n",
      "4 128 139\n",
      "{'label': 4, 'start_offset': 26, 'end_offset': 37, 'user': 1, 'created_at': '2021-04-16T05:49:49.514890Z', 'updated_at': '2021-04-16T05:49:49.514890Z'}\n",
      "4 26 37\n",
      "{'label': 4, 'start_offset': 41, 'end_offset': 47, 'user': 1, 'created_at': '2021-04-16T05:49:52.796599Z', 'updated_at': '2021-04-16T05:49:52.796599Z'}\n",
      "4 41 47\n",
      "{'label': 4, 'start_offset': 0, 'end_offset': 11, 'user': 1, 'created_at': '2021-04-16T05:49:57.626600Z', 'updated_at': '2021-04-16T05:49:57.626600Z'}\n",
      "4 0 11\n"
     ]
    }
   ],
   "source": [
    "TRAINING_DATA = []\n",
    "for entry in labeled_data:\n",
    "    entities = []\n",
    "    for e in entry['annotations']:\n",
    "        print(e)\n",
    "        print(e['label'], e['start_offset'], e['end_offset'])\n",
    "#         entities.append((e[0], e[1], e[2]))\n",
    "#     spacy_entry = (entry['text'], {\"entities\": entities})\n",
    "#     TRAINING_DATA.append(spacy_entry)"
   ]
  }
 ],
 "metadata": {
  "kernelspec": {
   "display_name": "Python 3",
   "language": "python",
   "name": "python3"
  },
  "language_info": {
   "codemirror_mode": {
    "name": "ipython",
    "version": 3
   },
   "file_extension": ".py",
   "mimetype": "text/x-python",
   "name": "python",
   "nbconvert_exporter": "python",
   "pygments_lexer": "ipython3",
   "version": "3.8.5"
  }
 },
 "nbformat": 4,
 "nbformat_minor": 4
}
