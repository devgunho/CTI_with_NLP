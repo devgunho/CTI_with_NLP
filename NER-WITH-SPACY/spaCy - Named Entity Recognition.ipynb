{
 "cells": [
  {
   "cell_type": "markdown",
   "metadata": {},
   "source": [
    "### Named Entity Recognition (NER) with Spacy\n",
    "The goal of this notebook is to show the full end to end process for Name-Entity Recognition(NER) with Spacy."
   ]
  },
  {
   "cell_type": "markdown",
   "metadata": {},
   "source": [
    "- Read the data set per line.\n",
    "- We will label texts with the entity using the Doccano labeling tool. This is a manual process.\n",
    "- We will save the labels in a text file as JSONL.\n",
    "- We will use the Spacy Neural Network model to train a new statistical model.\n",
    "- We will save the model.\n",
    "- We will create a Spacy NLP pipeline and use the new model to detect custom entities never seen before.\n",
    "- Finally, we will use pattern matching instead of a deep learning model to compare both methods."
   ]
  },
  {
   "cell_type": "markdown",
   "metadata": {},
   "source": [
    "### Load a spacy model and check if it has NER\n",
    "#### spaCy's NER model\n",
    "spaCy's Named Entity Recognition system features a sophisticated word embedding strategy using subword features and \"**Bloom**\" embeddings, a deep convolutional neural network with residual connections, and a novel transition-based approach to named entity parsing.\n",
    "\n",
    "The system is designed to give a good balance of efficiency, accuracy and adaptability. "
   ]
  },
  {
   "cell_type": "code",
   "execution_count": 8,
   "metadata": {
    "ExecuteTime": {
     "end_time": "2021-04-22T14:34:58.497137Z",
     "start_time": "2021-04-22T14:34:55.290632Z"
    }
   },
   "outputs": [
    {
     "data": {
      "text/plain": [
       "['tok2vec', 'tagger', 'parser', 'ner', 'attribute_ruler', 'lemmatizer']"
      ]
     },
     "execution_count": 8,
     "metadata": {},
     "output_type": "execute_result"
    }
   ],
   "source": [
    "import spacy\n",
    "nlp = spacy.load('en_core_web_sm')\n",
    "\n",
    "nlp.pipe_names"
   ]
  },
  {
   "cell_type": "markdown",
   "metadata": {},
   "source": [
    "### Load labeled data & Convert the formate to spacy format."
   ]
  },
  {
   "cell_type": "code",
   "execution_count": 9,
   "metadata": {
    "ExecuteTime": {
     "end_time": "2021-04-22T14:35:05.536888Z",
     "start_time": "2021-04-22T14:35:05.512949Z"
    }
   },
   "outputs": [
    {
     "data": {
      "text/html": [
       "<div>\n",
       "<style scoped>\n",
       "    .dataframe tbody tr th:only-of-type {\n",
       "        vertical-align: middle;\n",
       "    }\n",
       "\n",
       "    .dataframe tbody tr th {\n",
       "        vertical-align: top;\n",
       "    }\n",
       "\n",
       "    .dataframe thead th {\n",
       "        text-align: right;\n",
       "    }\n",
       "</style>\n",
       "<table border=\"1\" class=\"dataframe\">\n",
       "  <thead>\n",
       "    <tr style=\"text-align: right;\">\n",
       "      <th></th>\n",
       "      <th>id</th>\n",
       "      <th>entities</th>\n",
       "    </tr>\n",
       "  </thead>\n",
       "  <tbody>\n",
       "    <tr>\n",
       "      <th>0</th>\n",
       "      <td>1</td>\n",
       "      <td>ATTACK-METHOD</td>\n",
       "    </tr>\n",
       "    <tr>\n",
       "      <th>1</th>\n",
       "      <td>2</td>\n",
       "      <td>TARGET</td>\n",
       "    </tr>\n",
       "    <tr>\n",
       "      <th>2</th>\n",
       "      <td>3</td>\n",
       "      <td>LOCATION</td>\n",
       "    </tr>\n",
       "    <tr>\n",
       "      <th>3</th>\n",
       "      <td>4</td>\n",
       "      <td>MALWARE</td>\n",
       "    </tr>\n",
       "    <tr>\n",
       "      <th>4</th>\n",
       "      <td>5</td>\n",
       "      <td>THREAT-ACTOR</td>\n",
       "    </tr>\n",
       "    <tr>\n",
       "      <th>5</th>\n",
       "      <td>6</td>\n",
       "      <td>SOFTWARE</td>\n",
       "    </tr>\n",
       "    <tr>\n",
       "      <th>6</th>\n",
       "      <td>7</td>\n",
       "      <td>MITIGATION</td>\n",
       "    </tr>\n",
       "    <tr>\n",
       "      <th>7</th>\n",
       "      <td>8</td>\n",
       "      <td>VULNERABILITY</td>\n",
       "    </tr>\n",
       "    <tr>\n",
       "      <th>8</th>\n",
       "      <td>9</td>\n",
       "      <td>EMAIL</td>\n",
       "    </tr>\n",
       "    <tr>\n",
       "      <th>9</th>\n",
       "      <td>10</td>\n",
       "      <td>IP</td>\n",
       "    </tr>\n",
       "    <tr>\n",
       "      <th>10</th>\n",
       "      <td>11</td>\n",
       "      <td>MAC</td>\n",
       "    </tr>\n",
       "    <tr>\n",
       "      <th>11</th>\n",
       "      <td>12</td>\n",
       "      <td>URL</td>\n",
       "    </tr>\n",
       "    <tr>\n",
       "      <th>12</th>\n",
       "      <td>13</td>\n",
       "      <td>WIN-REG-KEY</td>\n",
       "    </tr>\n",
       "    <tr>\n",
       "      <th>13</th>\n",
       "      <td>14</td>\n",
       "      <td>ASSET</td>\n",
       "    </tr>\n",
       "    <tr>\n",
       "      <th>14</th>\n",
       "      <td>15</td>\n",
       "      <td>TIME</td>\n",
       "    </tr>\n",
       "    <tr>\n",
       "      <th>15</th>\n",
       "      <td>16</td>\n",
       "      <td>HASH</td>\n",
       "    </tr>\n",
       "    <tr>\n",
       "      <th>16</th>\n",
       "      <td>17</td>\n",
       "      <td>PERSON</td>\n",
       "    </tr>\n",
       "    <tr>\n",
       "      <th>17</th>\n",
       "      <td>18</td>\n",
       "      <td>ORGANIZATION</td>\n",
       "    </tr>\n",
       "  </tbody>\n",
       "</table>\n",
       "</div>"
      ],
      "text/plain": [
       "    id       entities\n",
       "0    1  ATTACK-METHOD\n",
       "1    2         TARGET\n",
       "2    3       LOCATION\n",
       "3    4        MALWARE\n",
       "4    5   THREAT-ACTOR\n",
       "5    6       SOFTWARE\n",
       "6    7     MITIGATION\n",
       "7    8  VULNERABILITY\n",
       "8    9          EMAIL\n",
       "9   10             IP\n",
       "10  11            MAC\n",
       "11  12            URL\n",
       "12  13    WIN-REG-KEY\n",
       "13  14          ASSET\n",
       "14  15           TIME\n",
       "15  16           HASH\n",
       "16  17         PERSON\n",
       "17  18   ORGANIZATION"
      ]
     },
     "execution_count": 9,
     "metadata": {},
     "output_type": "execute_result"
    }
   ],
   "source": [
    "import json\n",
    "import pandas as pd\n",
    "\n",
    "ids = []\n",
    "entities = []\n",
    "\n",
    "with open(r\"label_config.json\", \"r\", encoding='UTF8') as json_file:\n",
    "    json_data = json.load(json_file)\n",
    "    for i in range(0, len(json_data)):\n",
    "        ids.append(json_data[i]['id'])\n",
    "        entities.append(json_data[i]['text'])\n",
    "\n",
    "annotations_dict = {\"id\": ids, \"entities\": entities}\n",
    "annotations_df = pd.DataFrame(annotations_dict)\n",
    "annotations_df"
   ]
  },
  {
   "cell_type": "code",
   "execution_count": 46,
   "metadata": {
    "ExecuteTime": {
     "end_time": "2021-04-22T19:14:40.900290Z",
     "start_time": "2021-04-22T19:14:40.884632Z"
    }
   },
   "outputs": [
    {
     "name": "stdout",
     "output_type": "stream",
     "text": [
      "Line 1 : Mandiant Advanced Practices (AP) closely tracks the shifting tactics, techniques, and procedures (TTPs) of financially motivated groups who severely disrupt organizations with ransomware.\n",
      "('Mandiant Advanced Practices (AP) closely tracks the shifting tactics, techniques, and procedures (TTPs) of financially motivated groups who severely disrupt organizations with ransomware.', {'entities': []})\n",
      "\n",
      "\n",
      "Line 2 : In May 2020, FireEye released a blog post detailing intrusion tradecraft associated with the deployment of MAZE.\n",
      "('In May 2020, FireEye released a blog post detailing intrusion tradecraft associated with the deployment of MAZE.', {'entities': [(13, 20, 'ORGANIZATION'), (107, 111, 'MALWARE')]})\n",
      "\n",
      "\n",
      "Line 3 : As of publishing this post, we track 11 distinct groups that have deployed MAZE ransomware.\n",
      "('As of publishing this post, we track 11 distinct groups that have deployed MAZE ransomware.', {'entities': [(75, 90, 'MALWARE')]})\n",
      "\n",
      "\n",
      "Line 4 : At the close of 2020, we noticed a shift in a subset of these groups that have started to deploy EGREGOR ransomware in favor of MAZE ransomware following access acquired from ICEDID infections.\n",
      "('At the close of 2020, we noticed a shift in a subset of these groups that have started to deploy EGREGOR ransomware in favor of MAZE ransomware following access acquired from ICEDID infections.', {'entities': [(97, 115, 'MALWARE'), (128, 143, 'MALWARE'), (175, 181, 'MALWARE')]})\n",
      "\n",
      "\n",
      "Line 5 : Since its discovery in 2017 as a banking trojan, ICEDID evolved into a pernicious point of entry for financially motivated actors to conduct intrusion operations.\n",
      "('Since its discovery in 2017 as a banking trojan, ICEDID evolved into a pernicious point of entry for financially motivated actors to conduct intrusion operations.', {'entities': [(49, 55, 'MALWARE'), (41, 47, 'MALWARE')]})\n",
      "\n",
      "\n",
      "Line 6 : In earlier years, ICEDID was deployed to primarily target banking credentials.\n",
      "('In earlier years, ICEDID was deployed to primarily target banking credentials.', {'entities': [(18, 24, 'MALWARE'), (58, 77, 'TARGET')]})\n",
      "\n",
      "\n",
      "Line 7 : In 2020 we observed adversaries using ICEDID more explicitly as a tool to enable access to impacted networks, and in many cases this was leading to the use of common post-exploitation frameworks and ultimately the deployment of ransomware.\n",
      "('In 2020 we observed adversaries using ICEDID more explicitly as a tool to enable access to impacted networks, and in many cases this was leading to the use of common post-exploitation frameworks and ultimately the deployment of ransomware.', {'entities': [(38, 44, 'MALWARE'), (228, 238, 'MALWARE')]})\n",
      "\n",
      "\n",
      "Line 8 : This blog post shines a heat lamp on the latest tradecraft of UNC2198, who used ICEDID infections to deploy MAZE or EGREGOR ransomware.\n",
      "('This blog post shines a heat lamp on the latest tradecraft of UNC2198, who used ICEDID infections to deploy MAZE or EGREGOR ransomware.', {'entities': [(80, 86, 'MALWARE'), (108, 112, 'MALWARE'), (116, 123, 'MALWARE'), (124, 134, 'MALWARE')]})\n",
      "\n",
      "\n",
      "Line 9 : Building an Igloo: ICEDID Infections\n",
      "('Building an Igloo: ICEDID Infections', {'entities': [(19, 25, 'MALWARE')]})\n",
      "\n",
      "\n",
      "Line 10 : Separate phases of intrusions are attributed to different uncategorized (UNC) groups when discrete operations such as obtaining access are not part of a contiguous operation.\n",
      "('Separate phases of intrusions are attributed to different uncategorized (UNC) groups when discrete operations such as obtaining access are not part of a contiguous operation.', {'entities': []})\n",
      "\n",
      "\n",
      "Line 11 : Pure “access operations” establish remote access into a target environment for follow on operations actioned by a separate group.\n",
      "('Pure “access operations” establish remote access into a target environment for follow on operations actioned by a separate group.', {'entities': []})\n",
      "\n",
      "\n",
      "Line 12 : A backdoor deployed to establish an initial foothold for another group is an example of an access operation.\n",
      "('A backdoor deployed to establish an initial foothold for another group is an example of an access operation.', {'entities': [(2, 10, 'MALWARE')]})\n",
      "\n",
      "\n",
      "Line 13 : Between July and December 2020, an ICEDID phishing infection chain consisted of a multi-stage process involving MOUSEISLAND and PHOTOLOADER (Figure 1).\n",
      "('Between July and December 2020, an ICEDID phishing infection chain consisted of a multi-stage process involving MOUSEISLAND and PHOTOLOADER (Figure 1).', {'entities': [(0, 30, 'TIME'), (35, 41, 'MALWARE'), (112, 123, 'MALWARE'), (128, 139, 'MALWARE')]})\n",
      "\n",
      "\n",
      "Line 14 : Figure 1: Example UNC2420 MOUSEISLAND to ICEDID Infection Chain\n",
      "('Figure 1: Example UNC2420 MOUSEISLAND to ICEDID Infection Chain', {'entities': [(26, 37, 'MALWARE'), (41, 47, 'MALWARE')]})\n",
      "\n",
      "\n",
      "Line 15 : MOUSEISLAND is a Microsoft Word macro downloader used as the first infection stage and is delivered inside a password-protected zip attached to a phishing email (Figure 2).\n",
      "('MOUSEISLAND is a Microsoft Word macro downloader used as the first infection stage and is delivered inside a password-protected zip attached to a phishing email (Figure 2).', {'entities': [(0, 11, 'MALWARE'), (17, 48, 'SOFTWARE')]})\n",
      "\n",
      "\n",
      "Line 16 : Based on our intrusion data from responding to ICEDID related incidents, the secondary payload delivered by MOUSEISLAND has been PHOTOLOADER, which acts as an intermediary downloader to install ICEDID.\n",
      "('Based on our intrusion data from responding to ICEDID related incidents, the secondary payload delivered by MOUSEISLAND has been PHOTOLOADER, which acts as an intermediary downloader to install ICEDID.', {'entities': [(47, 53, 'MALWARE'), (108, 119, 'MALWARE'), (129, 140, 'MALWARE'), (194, 200, 'MALWARE')]})\n",
      "\n",
      "\n",
      "Line 17 : Mandiant attributes the MOUSEISLAND distribution of PHOTOLOADER and other payloads to UNC2420, a distribution threat cluster created by Mandiant’s Threat Pursuit team.\n",
      "('Mandiant attributes the MOUSEISLAND distribution of PHOTOLOADER and other payloads to UNC2420, a distribution threat cluster created by Mandiant’s Threat Pursuit team.', {'entities': [(24, 35, 'MALWARE'), (52, 63, 'MALWARE')]})\n",
      "\n",
      "\n",
      "Line 18 : UNC2420 activity shares overlaps with the publicly reported nomenclature of “Shathak” or “TA551”.\n",
      "('UNC2420 activity shares overlaps with the publicly reported nomenclature of “Shathak” or “TA551”.', {'entities': []})\n",
      "\n",
      "\n",
      "Line 19 : Figure 2: UNC2420 MOUSEISLAND Phishing Email\n",
      "('Figure 2: UNC2420 MOUSEISLAND Phishing Email', {'entities': [(18, 29, 'MALWARE')]})\n",
      "\n",
      "\n",
      "Line 20 : Ice, Ice, BEACON...UNC2198\n",
      "('Ice, Ice, BEACON...UNC2198', {'entities': [(10, 16, 'ASSET')]})\n",
      "\n",
      "\n",
      "Line 21 : Although analysis is always ongoing, at the time of publishing this blog post, Mandiant tracks multiple distinct threat clusters (UNC groups) of various sizes that have used ICEDID as a foothold to enable intrusion operations.\n",
      "('Although analysis is always ongoing, at the time of publishing this blog post, Mandiant tracks multiple distinct threat clusters (UNC groups) of various sizes that have used ICEDID as a foothold to enable intrusion operations.', {'entities': [(174, 180, 'MALWARE')]})\n",
      "\n",
      "\n",
      "Line 22 : The most prominent of these threat clusters is UNC2198, a group that has targeted organizations in North America across a breadth of industries.\n",
      "('The most prominent of these threat clusters is UNC2198, a group that has targeted organizations in North America across a breadth of industries.', {'entities': [(99, 112, 'LOCATION')]})\n",
      "\n",
      "\n",
      "Line 23 : In at least five cases, UNC2198 acquired initial access from UNC2420 MOUSEISLAND to conduct intrusion operations.\n",
      "('In at least five cases, UNC2198 acquired initial access from UNC2420 MOUSEISLAND to conduct intrusion operations.', {'entities': [(69, 80, 'MALWARE')]})\n",
      "\n",
      "\n",
      "Line 24 : In 2020, Mandiant attributed nine separate intrusions to UNC2198.\n",
      "('In 2020, Mandiant attributed nine separate intrusions to UNC2198.', {'entities': [(0, 7, 'TIME')]})\n",
      "\n",
      "\n",
      "Line 25 : UNC2198’s objective is to monetize their intrusions by compromising victim networks with ransomware.\n",
      "('UNC2198’s objective is to monetize their intrusions by compromising victim networks with ransomware.', {'entities': []})\n",
      "\n",
      "\n",
      "Line 26 : In July 2020, Mandiant observed UNC2198 leverage network access provided by an ICEDID infection to encrypt an environment with MAZE ransomware.\n",
      "('In July 2020, Mandiant observed UNC2198 leverage network access provided by an ICEDID infection to encrypt an environment with MAZE ransomware.', {'entities': [(79, 85, 'MALWARE'), (127, 142, 'MALWARE')]})\n",
      "\n",
      "\n",
      "Line 27 : As the year progressed into October and November, we observed UNC2198 shift from deploying MAZE to using EGREGOR ransomware during another Incident Response engagement.\n",
      "('As the year progressed into October and November, we observed UNC2198 shift from deploying MAZE to using EGREGOR ransomware during another Incident Response engagement.', {'entities': [(91, 95, 'MALWARE'), (105, 123, 'MALWARE'), (28, 48, 'TIME')]})\n",
      "\n",
      "\n",
      "Line 28 : Like MAZE, EGREGOR is operated using an affiliate model, where affiliates who deploy EGREGOR are provided with proceeds following successful encryption and extortion for payment.\n",
      "('Like MAZE, EGREGOR is operated using an affiliate model, where affiliates who deploy EGREGOR are provided with proceeds following successful encryption and extortion for payment.', {'entities': [(5, 9, 'MALWARE'), (11, 18, 'MALWARE'), (85, 92, 'MALWARE')]})\n",
      "\n",
      "\n",
      "Line 29 : The UNC2198 cluster expanded over the course of more than six months.\n",
      "('The UNC2198 cluster expanded over the course of more than six months.', {'entities': [(58, 68, 'TIME')]})\n",
      "\n",
      "\n",
      "Line 30 : Mandiant’s December 2020 blog post on UNCs described the analytical tradecraft we use to merge and graduate clusters of activity.\n",
      "('Mandiant’s December 2020 blog post on UNCs described the analytical tradecraft we use to merge and graduate clusters of activity.', {'entities': [(11, 24, 'TIME')]})\n",
      "\n",
      "\n"
     ]
    }
   ],
   "source": [
    "import json\n",
    "\n",
    "labeled_data = []\n",
    "cnt = 0\n",
    "with open(r\"labeled_sample.jsonl\", \"r\", encoding='UTF8') as read_file:\n",
    "    for line in read_file:\n",
    "        cnt += 1\n",
    "        data = json.loads(line)\n",
    "        print(\"Line\", cnt, \":\", data['text'])\n",
    "        entities = []\n",
    "        for i in range(0, len(data['annotations'])):\n",
    "            id_val = data['annotations'][i]['label']\n",
    "            label2tuple = (data['annotations'][i]['start_offset'],\n",
    "                           data['annotations'][i]['end_offset'],\n",
    "                           annotations_df.at[id_val - 1, 'entities'])\n",
    "            #print(line2tuple, end=' ')\n",
    "            entities.append(label2tuple)\n",
    "        line2tuple = (data['text'], {\"entities\": entities})\n",
    "        print(line2tuple)\n",
    "        labeled_data.append(line2tuple)\n",
    "        print('\\n')"
   ]
  },
  {
   "cell_type": "code",
   "execution_count": null,
   "metadata": {
    "ExecuteTime": {
     "end_time": "2021-04-19T04:23:15.111457Z",
     "start_time": "2021-04-19T04:23:14.952884Z"
    }
   },
   "outputs": [],
   "source": [
    "# Performing NER on E-commerce article\n",
    "\n",
    "article_text = \"\"\"India that previously comprised only a handful of players in the e-commerce space, is now home to many biggies and giants battling out with each other to reach the top. This is thanks to the overwhelming internet and smartphone penetration coupled with the ever-increasing digital adoption across the country. These new-age innovations not only gave emerging startups a unique platform to deliver seamless shopping experiences but also provided brick and mortar stores with a level-playing field to begin their online journeys without leaving their offline legacies.\n",
    "In the wake of so many players coming together on one platform, the Indian e-commerce market is envisioned to reach USD 84 billion in 2021 from USD 24 billion in 2017. Further, with the rate at which internet penetration is increasing, we can expect more and more international retailers coming to India in addition to a large pool of new startups. This, in turn, will provide a major Philip to the organized retail market and boost its share from 12% in 2017 to 22-25% by 2021. \n",
    "Here’s a view to the e-commerce giants that are dominating India’s online shopping space:\n",
    "Amazon – One of the uncontested global leaders, Amazon started its journey as a simple online bookstore that gradually expanded its reach to provide a large suite of diversified products including media, furniture, food, and electronics, among others. And now with the launch of Amazon Prime and Amazon Music Limited, it has taken customer experience to a godly level, which will remain undefeatable for a very long time. \n",
    "Flipkart – Founded in 2007, Flipkart is recognized as the national leader in the Indian e-commerce market. Just like Amazon, it started operating by selling books and then entered other categories such as electronics, fashion, and lifestyle, mobile phones, etc. And now that it has been acquired by Walmart, one of the largest leading platforms of e-commerce in the US, it has also raised its bar of customer offerings in all aspects and giving huge competition to Amazon. \n",
    "Snapdeal – Started as a daily deals platform in 2010, Snapdeal became a full-fledged online marketplace in 2011 comprising more than 3 lac sellers across India. The platform offers over 30 million products across 800+ diverse categories from over 125,000 regional, national, and international brands and retailers. The Indian e-commerce firm follows a robust strategy to stay at the forefront of innovation and deliver seamless customer offerings to its wide customer base. It has shown great potential for recovery in recent years despite losing Freecharge and Unicommerce. \n",
    "ShopClues – Another renowned name in the Indian e-commerce industry, ShopClues was founded in July 2011. It’s a Gurugram based company having a current valuation of INR 1.1 billion and is backed by prominent names including Nexus Venture Partners, Tiger Global, and Helion Ventures as its major investors. Presently, the platform comprises more than 5 lac sellers selling products in nine different categories such as computers, cameras, mobiles, etc. \n",
    "Paytm Mall – To compete with the existing e-commerce giants, Paytm, an online payment system has also launched its online marketplace – Paytm Mall, which offers a wide array of products ranging from men and women fashion to groceries and cosmetics, electronics and home products, and many more. The unique thing about this platform is that it serves as a medium for third parties to sell their products directly through the widely-known app – Paytm. \n",
    "Reliance Retail – Given Reliance Jio’s disruptive venture in the Indian telecom space along with a solid market presence of Reliance, it is no wonder that Reliance will soon be foraying into retail space. As of now, it has plans to build an e-commerce space that will be established on online-to-offline market program and aim to bring local merchants on board to help them boost their sales and compete with the existing industry leaders. \n",
    "Big Basket – India’s biggest online supermarket, Big Basket provides a wide variety of imported and gourmet products through two types of delivery services – express delivery and slotted delivery. It also offers pre-cut fruits along with a long list of beverages including fresh juices, cold drinks, hot teas, etc. Moreover, it not only provides farm-fresh products but also ensures that the farmer gets better prices. \n",
    "Grofers – One of the leading e-commerce players in the grocery segment, Grofers started its operations in 2013 and has reached overwhelming heights in the last 5 years. Its wide range of products includes atta, milk, oil, daily need products, vegetables, dairy products, juices, beverages, among others. With its growing reach across India, it has become one of the favorite supermarkets for Indian consumers who want to shop grocery items from the comforts of their homes. \n",
    "Digital Mall of Asia – Going live in 2020, Digital Mall of Asia is a very unique concept coined by the founders of Yokeasia Malls. It is designed to provide an immersive digital space equipped with multiple visual and sensory elements to sellers and shoppers. It will also give retailers exclusive rights to sell a particular product category or brand in their respective cities. What makes it unique is its zero-commission model enabling retailers to pay only a fixed amount of monthly rental instead of paying commissions. With its one-of-a-kind features, DMA is expected to bring\n",
    "never-seen transformation to the current e-commerce ecosystem while addressing all the existing e-commerce worries such as counterfeiting. \"\"\"\n",
    "\n",
    "doc = nlp(article_text)\n",
    "for ent in doc.ents:\n",
    "    print(ent.text, ent.label_)"
   ]
  },
  {
   "cell_type": "code",
   "execution_count": null,
   "metadata": {
    "ExecuteTime": {
     "end_time": "2021-04-19T04:23:15.441640Z",
     "start_time": "2021-04-19T04:23:15.112448Z"
    }
   },
   "outputs": [],
   "source": [
    "# Load pre-existing spacy model\n",
    "import spacy\n",
    "nlp = spacy.load('en_core_web_sm')\n",
    "\n",
    "# Getting the pipeline component\n",
    "ner = nlp.get_pipe(\"ner\")"
   ]
  },
  {
   "cell_type": "code",
   "execution_count": null,
   "metadata": {
    "ExecuteTime": {
     "end_time": "2021-04-19T04:23:15.457407Z",
     "start_time": "2021-04-19T04:23:15.442602Z"
    }
   },
   "outputs": [],
   "source": [
    "# training data\n",
    "TRAIN_DATA = [(\"Walmart is a leading e-commerce company\", {\n",
    "    \"entities\": [(0, 7, \"ORG\")]\n",
    "}), (\"I reached Chennai yesterday.\", {\n",
    "    \"entities\": [(19, 28, \"GPE\")]\n",
    "}), (\"I recently ordered a book from Amazon\", {\n",
    "    \"entities\": [(24, 32, \"ORG\")]\n",
    "}), (\"I was driving a BMW\", {\n",
    "    \"entities\": [(16, 19, \"PRODUCT\")]\n",
    "}), (\"I ordered this from ShopClues\", {\n",
    "    \"entities\": [(20, 29, \"ORG\")]\n",
    "}), (\"Fridge can be ordered in Amazon \", {\n",
    "    \"entities\": [(0, 6, \"PRODUCT\")]\n",
    "}), (\"I bought a new Washer\", {\n",
    "    \"entities\": [(16, 22, \"PRODUCT\")]\n",
    "}), (\"I bought a old table\", {\n",
    "    \"entities\": [(16, 21, \"PRODUCT\")]\n",
    "}), (\"I bought a fancy dress\", {\n",
    "    \"entities\": [(18, 23, \"PRODUCT\")]\n",
    "}), (\"I rented a camera\", {\n",
    "    \"entities\": [(12, 18, \"PRODUCT\")]\n",
    "}), (\"I rented a tent for our trip\", {\n",
    "    \"entities\": [(12, 16, \"PRODUCT\")]\n",
    "}),\n",
    "              (\"I rented a screwdriver from our neighbour\", {\n",
    "                  \"entities\": [(12, 22, \"PRODUCT\")]\n",
    "              }),\n",
    "              (\"I repaired my computer\", {\n",
    "                  \"entities\": [(15, 23, \"PRODUCT\")]\n",
    "              }), (\"I got my clock fixed\", {\n",
    "                  \"entities\": [(16, 21, \"PRODUCT\")]\n",
    "              }), (\"I got my truck fixed\", {\n",
    "                  \"entities\": [(16, 21, \"PRODUCT\")]\n",
    "              }),\n",
    "              (\"Flipkart started it's journey from zero\", {\n",
    "                  \"entities\": [(0, 8, \"ORG\")]\n",
    "              }),\n",
    "              (\"I recently ordered from Max\", {\n",
    "                  \"entities\": [(24, 27, \"ORG\")]\n",
    "              }),\n",
    "              (\"Flipkart is recognized as leader in market\", {\n",
    "                  \"entities\": [(0, 8, \"ORG\")]\n",
    "              }),\n",
    "              (\"I recently ordered from Swiggy\", {\n",
    "                  \"entities\": [(24, 29, \"ORG\")]\n",
    "              })]"
   ]
  },
  {
   "cell_type": "code",
   "execution_count": null,
   "metadata": {
    "ExecuteTime": {
     "end_time": "2021-04-19T04:23:15.473440Z",
     "start_time": "2021-04-19T04:23:15.458378Z"
    }
   },
   "outputs": [],
   "source": [
    "# Adding labels to the `ner`\n",
    "\n",
    "for _, annotations in TRAIN_DATA:\n",
    "    for ent in annotations.get(\"entities\"):\n",
    "        ner.add_label(ent[2])"
   ]
  },
  {
   "cell_type": "code",
   "execution_count": null,
   "metadata": {
    "ExecuteTime": {
     "end_time": "2021-04-19T04:23:15.489377Z",
     "start_time": "2021-04-19T04:23:15.474412Z"
    }
   },
   "outputs": [],
   "source": [
    "# Disable pipeline components you dont need to change\n",
    "pipe_exceptions = [\"ner\", \"trf_wordpiecer\", \"trf_tok2vec\"]\n",
    "unaffected_pipes = [\n",
    "    pipe for pipe in nlp.pipe_names if pipe not in pipe_exceptions\n",
    "]"
   ]
  },
  {
   "cell_type": "code",
   "execution_count": null,
   "metadata": {
    "ExecuteTime": {
     "end_time": "2021-04-19T04:23:32.636164Z",
     "start_time": "2021-04-19T04:23:15.495376Z"
    }
   },
   "outputs": [],
   "source": [
    "# Import requirements\n",
    "import random\n",
    "from spacy.util import minibatch, compounding\n",
    "from spacy.training import Example\n",
    "from pathlib import Path\n",
    "\n",
    "# TRAINING THE MODEL\n",
    "with nlp.disable_pipes(*unaffected_pipes):\n",
    "\n",
    "    # Training for 30 iterations\n",
    "    for iteration in range(30):\n",
    "\n",
    "        # shuufling examples  before every iteration\n",
    "        random.shuffle(TRAIN_DATA)\n",
    "        losses = {}\n",
    "        # batch up the examples using spaCy's minibatch\n",
    "        for batch in spacy.util.minibatch(TRAIN_DATA, size=2):\n",
    "            for text, annotations in batch:\n",
    "                # create Example\n",
    "                doc = nlp.make_doc(text)\n",
    "                example = Example.from_dict(doc, annotations)\n",
    "                # Update the model\n",
    "                nlp.update([example], losses=losses, drop=0.3)\n",
    "                print(\"Losses\", losses)"
   ]
  },
  {
   "cell_type": "code",
   "execution_count": null,
   "metadata": {
    "ExecuteTime": {
     "end_time": "2021-04-19T04:23:48.913679Z",
     "start_time": "2021-04-19T04:23:48.905216Z"
    }
   },
   "outputs": [],
   "source": [
    "# Testing the model\n",
    "doc = nlp(\"Walmart is a leading e-commerce company, Walmart\")\n",
    "print(\"Entities\", [(ent.text, ent.label_) for ent in doc.ents])"
   ]
  },
  {
   "cell_type": "code",
   "execution_count": null,
   "metadata": {
    "ExecuteTime": {
     "start_time": "2021-04-22T08:54:42.158Z"
    }
   },
   "outputs": [],
   "source": [
    "import spacy\n",
    "from spacy import displacy\n",
    "\n",
    "text = \"When Sebastian Thrun started working on self-driving cars at Google in 2007, few people outside of the company took him seriously.\"\n",
    "\n",
    "nlp = spacy.load(\"en_core_web_sm\")\n",
    "doc = nlp(text)\n",
    "displacy.serve(doc, style=\"ent\")"
   ]
  }
 ],
 "metadata": {
  "kernelspec": {
   "display_name": "Python 3",
   "language": "python",
   "name": "python3"
  },
  "language_info": {
   "codemirror_mode": {
    "name": "ipython",
    "version": 3
   },
   "file_extension": ".py",
   "mimetype": "text/x-python",
   "name": "python",
   "nbconvert_exporter": "python",
   "pygments_lexer": "ipython3",
   "version": "3.8.5"
  }
 },
 "nbformat": 4,
 "nbformat_minor": 4
}
